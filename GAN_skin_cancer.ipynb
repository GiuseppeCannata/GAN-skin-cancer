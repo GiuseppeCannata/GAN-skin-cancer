{
  "nbformat": 4,
  "nbformat_minor": 0,
  "metadata": {
    "accelerator": "GPU",
    "colab": {
      "name": "GAN_skin_cancer.ipynb",
      "provenance": [],
      "collapsed_sections": []
    },
    "kernelspec": {
      "display_name": "Python 3",
      "name": "python3"
    },
    "language_info": {
      "name": "python"
    }
  },
  "cells": [
    {
      "cell_type": "markdown",
      "metadata": {
        "id": "0lO3lqRzPpoo"
      },
      "source": [
        "#Set-up enviroment"
      ]
    },
    {
      "cell_type": "code",
      "metadata": {
        "id": "cTcYYlWwLHp0"
      },
      "source": [
        "!rm -r sample_data/"
      ],
      "execution_count": null,
      "outputs": []
    },
    {
      "cell_type": "code",
      "metadata": {
        "colab": {
          "resources": {
            "http://localhost:8080/nbextensions/google.colab/files.js": {
              "data": "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",
              "ok": true,
              "headers": [
                [
                  "content-type",
                  "application/javascript"
                ]
              ],
              "status": 200,
              "status_text": ""
            }
          },
          "base_uri": "https://localhost:8080/",
          "height": 126
        },
        "id": "JBu9i7FnVAZx",
        "outputId": "0b5f2cc3-bf94-427a-b3cf-56ebc15e5e5e"
      },
      "source": [
        "#Download Kaggle dataset guide: https://www.kaggle.com/general/74235\n",
        "from google.colab import files\n",
        "files.upload()\n",
        "!pip install -q kaggle\n",
        "!mkdir ~/.kaggle   \n",
        "!mv ./kaggle.json ~/.kaggle\n",
        "!chmod 600 ~/.kaggle/kaggle.json\n",
        "!kaggle datasets download -d kmader/skin-cancer-mnist-ham10000"
      ],
      "execution_count": null,
      "outputs": [
        {
          "output_type": "display_data",
          "data": {
            "text/html": [
              "\n",
              "     <input type=\"file\" id=\"files-8ad0bcc1-b23c-461c-9a9b-189298af5000\" name=\"files[]\" multiple disabled\n",
              "        style=\"border:none\" />\n",
              "     <output id=\"result-8ad0bcc1-b23c-461c-9a9b-189298af5000\">\n",
              "      Upload widget is only available when the cell has been executed in the\n",
              "      current browser session. Please rerun this cell to enable.\n",
              "      </output>\n",
              "      <script src=\"/nbextensions/google.colab/files.js\"></script> "
            ],
            "text/plain": [
              "<IPython.core.display.HTML object>"
            ]
          },
          "metadata": {}
        },
        {
          "output_type": "stream",
          "name": "stdout",
          "text": [
            "Saving kaggle.json to kaggle.json\n",
            "Downloading skin-cancer-mnist-ham10000.zip to /content\n",
            "100% 5.20G/5.20G [02:05<00:00, 51.0MB/s]\n",
            "100% 5.20G/5.20G [02:05<00:00, 44.6MB/s]\n"
          ]
        }
      ]
    },
    {
      "cell_type": "code",
      "metadata": {
        "id": "0KRV3Cd2VFCw"
      },
      "source": [
        "!mkdir data \n",
        "!unzip skin-cancer-mnist-ham10000.zip -d data\n",
        "!mv data/HAM10000_metadata.csv ./HAM10000_metadata.csv\n",
        "!rm -r data/ham10000_images_part_1 data/ham10000_images_part_2 data/*.csv\n",
        "!mkdir weights grid logs"
      ],
      "execution_count": null,
      "outputs": []
    },
    {
      "cell_type": "markdown",
      "metadata": {
        "id": "wGIcgRdJ4Ulr"
      },
      "source": [
        "Librerie"
      ]
    },
    {
      "cell_type": "code",
      "metadata": {
        "id": "7aD8Hlcc4Yjf"
      },
      "source": [
        "import os\n",
        "import cv2\n",
        "import sys\n",
        "import math\n",
        "import numpy as np\n",
        "import pandas as pd\n",
        "\n",
        "import tensorflow as tf\n",
        "from tensorflow.keras.layers import *\n",
        "from tensorflow.keras.models import Sequential\n",
        "from tensorflow.keras.losses import BinaryCrossentropy"
      ],
      "execution_count": null,
      "outputs": []
    },
    {
      "cell_type": "markdown",
      "metadata": {
        "id": "cZQAbkG09L2W"
      },
      "source": [
        "Path"
      ]
    },
    {
      "cell_type": "code",
      "metadata": {
        "id": "ExUzfynv4SP2"
      },
      "source": [
        "root = './'\n",
        "data_path = os.path.join(root, \"data\")\n",
        "weights_path = os.path.join(root, 'weights')\n",
        "grid_path = os.path.join(root, 'grid')\n",
        "logs_path = os.path.join(root, 'logs')"
      ],
      "execution_count": null,
      "outputs": []
    },
    {
      "cell_type": "markdown",
      "metadata": {
        "id": "iS9cz7bKNWTf"
      },
      "source": [
        "#Dataset"
      ]
    },
    {
      "cell_type": "markdown",
      "metadata": {
        "id": "ZStDOqElhrPJ"
      },
      "source": [
        "Histogram"
      ]
    },
    {
      "cell_type": "code",
      "metadata": {
        "colab": {
          "base_uri": "https://localhost:8080/",
          "height": 302
        },
        "id": "g83RGQnue0EY",
        "outputId": "4f59316a-5efd-4837-c75c-43a7445daf72"
      },
      "source": [
        "df = pd.read_csv ('HAM10000_metadata.csv', sep=',')\n",
        "df['dx'].value_counts().plot(kind='bar')"
      ],
      "execution_count": null,
      "outputs": [
        {
          "output_type": "execute_result",
          "data": {
            "text/plain": [
              "<matplotlib.axes._subplots.AxesSubplot at 0x7f1f8b5a2fd0>"
            ]
          },
          "metadata": {},
          "execution_count": 6
        },
        {
          "output_type": "display_data",
          "data": {
            "image/png": "[encoded data removed]",
            "text/plain": [
              "<Figure size 432x288 with 1 Axes>"
            ]
          },
          "metadata": {
            "needs_background": "light"
          }
        }
      ]
    },
    {
      "cell_type": "markdown",
      "metadata": {
        "id": "VK5QVfkjhs_e"
      },
      "source": [
        "TFrecord"
      ]
    },
    {
      "cell_type": "markdown",
      "metadata": {
        "id": "KCU4BeCcRptH"
      },
      "source": [
        "![image.png](data:image/png;base64,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)"
      ]
    },
    {
      "cell_type": "code",
      "metadata": {
        "id": "vwga07l8NkMh"
      },
      "source": [
        "#Based on: https://www.tensorflow.org/tutorials/load_data/tfrecord\n",
        "def bytes_feature(value):\n",
        "  \"\"\"Returns a bytes_list from a string / byte.\"\"\"\n",
        "  if isinstance(value, type(tf.constant(0))):\n",
        "    value = value.numpy()\n",
        "  return tf.train.Feature(bytes_list=tf.train.BytesList(value=[value]))\n",
        "\n",
        "def int64_feature(value):\n",
        "  \"\"\"Returns an int64_list from a bool / enum / int / uint.\"\"\"\n",
        "  return tf.train.Feature(int64_list=tf.train.Int64List(value=[value]))"
      ],
      "execution_count": null,
      "outputs": []
    },
    {
      "cell_type": "code",
      "metadata": {
        "id": "7-bz_KmBOQas"
      },
      "source": [
        "def format_example(name_img, img):\n",
        "  example = tf.train.Example(features=tf.train.Features(feature={\n",
        "\n",
        "    'image_name': bytes_feature(name_img.encode('utf-8')),  \n",
        "    'image_raw': bytes_feature(img.tobytes()), \n",
        "\n",
        "    'image_format': bytes_feature('jpg'.encode('utf-8')),\n",
        "    'image_height': int64_feature(img.shape[0]),\n",
        "    'image_width': int64_feature(img.shape[1]),\n",
        "\n",
        "  }))\n",
        "\n",
        "  return example"
      ],
      "execution_count": null,
      "outputs": []
    },
    {
      "cell_type": "code",
      "metadata": {
        "colab": {
          "base_uri": "https://localhost:8080/"
        },
        "id": "ooBJG1YoNSsq",
        "outputId": "5fb93b85-a67d-45f7-efb2-f3695167a436"
      },
      "source": [
        "name_dataset = os.path.join(root, \"Skin_cancer.tfrecord\")\n",
        "tfrecord_writer = tf.compat.v1.python_io.TFRecordWriter(name_dataset)\n",
        "len_dataset = 0\n",
        "\n",
        "for dir in os.listdir(data_path):\n",
        "  for name_img in os.listdir(os.path.join(data_path, dir)):\n",
        "    len_dataset += 1\n",
        "    img = cv2.imread(os.path.join(data_path, dir, name_img), 1)\n",
        "    img = cv2.resize(img, dsize=(64, 64), interpolation=cv2.INTER_NEAREST).reshape(64, 64, 3)\n",
        "\n",
        "    example = format_example(name_img,img)\n",
        "    tfrecord_writer.write(example.SerializeToString())\n",
        "    sys.stdout.write(\"\\r<Creazione TFrecord> Analisi: \" + str(len_dataset))\n",
        "    sys.stdout.flush()\n",
        "\n",
        "tfrecord_writer.close()"
      ],
      "execution_count": null,
      "outputs": [
        {
          "output_type": "stream",
          "name": "stdout",
          "text": [
            "<Creazione TFrecord> Analisi: 10015"
          ]
        }
      ]
    },
    {
      "cell_type": "code",
      "metadata": {
        "id": "skKvKQCZ-3s2"
      },
      "source": [
        "descriptor_dataset = {\n",
        "  'image_name': tf.io.FixedLenFeature([], tf.string), \n",
        "  'image_raw': tf.io.FixedLenFeature([], tf.string), \n",
        "  'image_format': tf.io.FixedLenFeature((), tf.string),  # .png/.jpg\n",
        "  'image_height': tf.io.FixedLenFeature([], tf.int64, default_value=64),\n",
        "  'image_width': tf.io.FixedLenFeature([], tf.int64, default_value=64),\n",
        "  }"
      ],
      "execution_count": null,
      "outputs": []
    },
    {
      "cell_type": "markdown",
      "metadata": {
        "id": "43qX7u1ZLHwJ"
      },
      "source": [
        "#GAN"
      ]
    },
    {
      "cell_type": "code",
      "metadata": {
        "id": "KL3rWvU8wW6X"
      },
      "source": [
        "def build_generator(latent_size):\n",
        "  model = Sequential()\n",
        "\n",
        "  # Input\n",
        "  model.add(Dense(4 * 4 * 256, activation=\"relu\", input_shape=(latent_size,)))\n",
        "  model.add(Reshape((4, 4, 256))) #[batch,4,4,256]\n",
        "  \n",
        "  # block_1\n",
        "  model.add(UpSampling2D())\n",
        "  model.add(Conv2D(128, kernel_size=3, padding=\"same\"))\n",
        "  model.add(BatchNormalization())\n",
        "  model.add(Activation(\"relu\")) #[batch,8,8,256]\n",
        "\n",
        "  # block_2\n",
        "  model.add(UpSampling2D())\n",
        "  model.add(Conv2D(128, kernel_size=3, padding=\"same\"))\n",
        "  model.add(BatchNormalization())\n",
        "  model.add(Activation(\"relu\")) #[batch,16,16,256]\n",
        "\n",
        "  # block_3\n",
        "  model.add(UpSampling2D())\n",
        "  model.add(Conv2D(128, kernel_size=3, padding=\"same\"))\n",
        "  model.add(BatchNormalization())\n",
        "  model.add(Activation(\"relu\")) #[batch,32,32,128]\n",
        "\n",
        "  # block_4\n",
        "  model.add(UpSampling2D())\n",
        "  model.add(Conv2D(128, kernel_size=3, padding=\"same\"))\n",
        "  model.add(BatchNormalization())\n",
        "  model.add(Activation(\"relu\")) #[batch,64,64,128]\n",
        "\n",
        "  # Output\n",
        "  model.add(Conv2D(3, kernel_size=3, padding=\"same\"))\n",
        "  model.add(Activation('tanh')) #[batch,64,64,3]\n",
        "\n",
        "  return model"
      ],
      "execution_count": null,
      "outputs": []
    },
    {
      "cell_type": "code",
      "metadata": {
        "id": "MbfcYLGhw3Ch"
      },
      "source": [
        "def build_discriminator(input_size):\n",
        "  model = Sequential()\n",
        "\n",
        "  # block_1\n",
        "  model.add(Conv2D(64, kernel_size=(3, 3), strides=2, padding='same', data_format=\"channels_last\", input_shape=input_size))\n",
        "  model.add(BatchNormalization())\n",
        "  model.add(LeakyReLU(alpha=0.2)) #[batch,32,32,64]\n",
        "\n",
        "  # block_2\n",
        "  model.add(Conv2D(128, kernel_size=(3, 3), strides=2, padding='same', data_format=\"channels_last\"))\n",
        "  model.add(BatchNormalization())\n",
        "  model.add(LeakyReLU(alpha=0.2)) #[batch,16,16,128]\n",
        "\n",
        "  # block_3\n",
        "  model.add(Conv2D(256, kernel_size=(3, 3), strides=2, padding='same', data_format=\"channels_last\"))\n",
        "  model.add(BatchNormalization())\n",
        "  model.add(LeakyReLU(alpha=0.2)) #[batch,8,8,256]\n",
        "\n",
        "  # block_4\n",
        "  model.add(Conv2D(512, kernel_size=(3, 3), strides=1, padding='same', data_format=\"channels_last\"))\n",
        "  model.add(BatchNormalization())\n",
        "  model.add(LeakyReLU(alpha=0.2)) #[batch,8,8,512]\n",
        "\n",
        "  # output\n",
        "  model.add(Flatten())\n",
        "  model.add(Dense(1, activation='sigmoid')) #[batch,1]\n",
        "\n",
        "  return model\n"
      ],
      "execution_count": null,
      "outputs": []
    },
    {
      "cell_type": "code",
      "metadata": {
        "id": "ZPc2RVxaECh9"
      },
      "source": [
        "def generator_loss(fake_output):\n",
        "  return tf.reduce_mean(BinaryCrossentropy(from_logits=True)(tf.ones_like(fake_output), fake_output))"
      ],
      "execution_count": null,
      "outputs": []
    },
    {
      "cell_type": "code",
      "metadata": {
        "id": "FpGAc1VeDdHJ"
      },
      "source": [
        "def discriminator_loss(real_output, fake_output):\n",
        "  real_loss = tf.reduce_mean(BinaryCrossentropy(from_logits=True)(tf.ones_like(real_output), real_output))\n",
        "  fake_loss = tf.reduce_mean(BinaryCrossentropy(from_logits=True)(tf.zeros_like(fake_output), fake_output))\n",
        "  total_loss = (real_loss + fake_loss)\n",
        "  return total_loss"
      ],
      "execution_count": null,
      "outputs": []
    },
    {
      "cell_type": "markdown",
      "metadata": {
        "id": "uRbM1Ki-B_iW"
      },
      "source": [
        "#Utils"
      ]
    },
    {
      "cell_type": "code",
      "metadata": {
        "id": "XUHaI8hmm2P7"
      },
      "source": [
        "def make_grid(tensor, nrow=8, padding=2,\n",
        "              normalize=False, scale_each=False):\n",
        "  \"\"\"Code based on https://github.com/pytorch/vision/blob/master/torchvision/utils.py\"\"\"\n",
        "  nmaps = tensor.shape[0]\n",
        "  xmaps = min(nrow, nmaps)  \n",
        "  ymaps = int(math.ceil(float(nmaps) / xmaps)) \n",
        "  height, width = int(tensor.shape[1] + padding), int(tensor.shape[2] + padding)\n",
        "  grid = np.zeros([height * ymaps + 1 + padding // 2, width * xmaps + 1 + padding // 2, 3], dtype=np.uint8)\n",
        "  k = 0\n",
        "  for y in range(ymaps):\n",
        "      for x in range(xmaps):\n",
        "          if k >= nmaps:\n",
        "              break\n",
        "          h, h_width = y * height + 1 + padding // 2, height - padding\n",
        "          w, w_width = x * width + 1 + padding // 2, width - padding\n",
        "\n",
        "          grid[h:h + h_width, w:w + w_width] = tensor[k]\n",
        "          k = k + 1\n",
        "  return grid\n",
        "  \n",
        "def save_image(tensor, filename, nrow=8, padding=2,\n",
        "               normalize=False, scale_each=False):\n",
        "  ndarr = make_grid(tensor, nrow=nrow, padding=padding,\n",
        "                    normalize=normalize, scale_each=scale_each)\n",
        "  cv2.imwrite(filename, ndarr)"
      ],
      "execution_count": null,
      "outputs": []
    },
    {
      "cell_type": "code",
      "metadata": {
        "id": "EIoyV2W35JXw"
      },
      "source": [
        "def preprocessamento(example_proto):\n",
        "  example = tf.io.parse_single_example(example_proto, descriptor_dataset)\n",
        "\n",
        "  w = example['image_width']\n",
        "  h = example['image_height']\n",
        "  image_raw = tf.reshape(tf.io.decode_raw(example['image_raw'], tf.uint8), [w, h, 3])\n",
        "  image_raw = tf.cast(image_raw, dtype=tf.float32)\n",
        "  image_raw_prepr = tf.math.divide(tf.math.subtract(image_raw, 127.5), 127.5)  #[-1,1]\n",
        "\n",
        "  return image_raw_prepr"
      ],
      "execution_count": null,
      "outputs": []
    },
    {
      "cell_type": "markdown",
      "metadata": {
        "id": "Nycg0GIqZ97h"
      },
      "source": [
        "#Training"
      ]
    },
    {
      "cell_type": "code",
      "metadata": {
        "id": "sUbdQ25Z-39c"
      },
      "source": [
        "def train_on_batch(generator, generator_optimizer,\n",
        "                   discriminator, discriminator_optimizer,\n",
        "                   noise_batch, real_imgs_batch):\n",
        "  \n",
        "  with tf.GradientTape() as gen_tape, tf.GradientTape() as disc_tape:\n",
        "    fake_imgs_batch = generator(noise_batch) # Generator create the image\n",
        "\n",
        "    real_output = discriminator(real_imgs_batch) # Prediction on real\n",
        "    fake_output = discriminator(fake_imgs_batch) # Prediction on generated\n",
        "\n",
        "    # Loss\n",
        "    gen_loss = generator_loss(fake_output)\n",
        "    disc_loss = discriminator_loss(real_output, fake_output)\n",
        "\n",
        "  # Thanks to the subdivision of the optimizers we can train simultaneously \n",
        "  # the generator and the discriminator\n",
        "  discriminator_optimizer.minimize(disc_loss, var_list=discriminator.trainable_weights, tape=disc_tape)\n",
        "  generator_optimizer.minimize(gen_loss, var_list=generator.trainable_weights, tape=gen_tape)\n",
        "  \n",
        "  return gen_loss, disc_loss, real_output, fake_output, fake_imgs_batch"
      ],
      "execution_count": null,
      "outputs": []
    },
    {
      "cell_type": "code",
      "metadata": {
        "colab": {
          "base_uri": "https://localhost:8080/"
        },
        "id": "BYbdI0RN1xLJ",
        "outputId": "d378e54b-e57f-493a-e247-0a596f330726"
      },
      "source": [
        "# -1.Training params\n",
        "input_size = [64, 64, 3]\n",
        "g_lr = 0.0001\n",
        "d_lr = 0.0002\n",
        "latent_size = 100\n",
        "batch_size = 32\n",
        "epochs = 50\n",
        "num_batches = len_dataset // batch_size\n",
        "\n",
        "# -2.Callbacks\n",
        "# --end epoch\n",
        "save_weights_epoch = 1\n",
        "# --end iteration\n",
        "save_grid_iteration = 50\n",
        "\n",
        "#######################################################################\n",
        "\n",
        "# Pipeline: Load dataset\n",
        "dataset = tf.data.TFRecordDataset(name_dataset)\n",
        "dataset = dataset.map(preprocessamento, num_parallel_calls=tf.data.AUTOTUNE)\n",
        "dataset = dataset.shuffle(len_dataset, reshuffle_each_iteration=True)\n",
        "dataset = dataset.batch(batch_size)\n",
        "dataset = dataset.prefetch(tf.data.AUTOTUNE)\n",
        "\n",
        "# Build GAN\n",
        "generator = build_generator(latent_size)\n",
        "generator_optimizer = tf.keras.optimizers.RMSprop(lr=g_lr, decay=3e-8)\n",
        "#generator_optimizer = tf.keras.optimizers.Adam(lr=0.000002)\n",
        "\n",
        "discriminator = build_discriminator(input_size)\n",
        "discriminator_optimizer = tf.keras.optimizers.RMSprop(lr=d_lr, decay=6e-8)\n",
        "#discriminator_optimizer = tf.keras.optimizers.Adam(lr=0.000004)\n",
        "\n",
        "# Metrics\n",
        "metric_accuracy_real = tf.keras.metrics.BinaryAccuracy(name='binary_accuracy', threshold=0.5)\n",
        "metric_accuracy_fake = tf.keras.metrics.BinaryAccuracy(name='binary_accuracy', threshold=0.5)\n",
        "\n",
        "history = {\"epoch\": 0,\n",
        "            \"loss_G\": [],\n",
        "            \"loss_D\": [],\n",
        "            \"acc_real\": [],\n",
        "            \"acc_fake\": []\n",
        "            }\n",
        "\n",
        "# Training\n",
        "for epoch in range(epochs):\n",
        "\n",
        "  dataset_iterator = iter(dataset)\n",
        "  array_gen_loss = np.empty(num_batches)\n",
        "  array_disc_loss = np.empty(num_batches)\n",
        "  metric_accuracy_real.reset_state()\n",
        "  metric_accuracy_fake.reset_state()\n",
        "\n",
        "  name_dir_grid = os.path.join(grid_path, str(epoch + 1))\n",
        "  if not os.path.exists(name_dir_grid):\n",
        "    os.mkdir(name_dir_grid)\n",
        "\n",
        "  for step in range(num_batches):\n",
        "    noise_batch = tf.random.normal(mean=0.0, stddev=1.0, shape=[batch_size, latent_size], dtype=tf.float32)\n",
        "    real_imgs_batch = next(dataset_iterator)\n",
        "\n",
        "    array_gen_loss[step], array_disc_loss[step], \\\n",
        "    real, fake, fake_imgs_batch = train_on_batch(generator, generator_optimizer,\n",
        "                                                  discriminator, discriminator_optimizer,\n",
        "                                                  noise_batch, real_imgs_batch)\n",
        "\n",
        "    # -Callbacks iteration\n",
        "    # --Metrics\n",
        "    # [TP/(TP+FP)]\n",
        "    metric_accuracy_real.update_state(tf.ones_like(real), real)\n",
        "    accuracy_real = metric_accuracy_real.result().numpy()\n",
        "    # [TN/(TN+FN)]\n",
        "    metric_accuracy_fake.update_state(tf.zeros_like(fake), fake)\n",
        "    accuracy_fake = metric_accuracy_fake.result().numpy()\n",
        "\n",
        "    # --Logs\n",
        "    logs = \"Epoch {epoch} step {step} / {iterations} --> gen_loss: {gen_loss:.4f}, disc_loss: {disc_loss:.4f}, acc_real:{acc_real:.4f}, acc_fake:{acc_fake:.4f}\".format(\n",
        "        epoch=epoch + 1,\n",
        "        step=step + 1,\n",
        "        iterations=len_dataset // batch_size,\n",
        "        gen_loss=np.mean(array_gen_loss[:step + 1]),\n",
        "        disc_loss=np.mean(array_disc_loss[:step + 1]),\n",
        "        acc_real=accuracy_real,\n",
        "        acc_fake=accuracy_fake\n",
        "    )\n",
        "    sys.stdout.write('\\r')\n",
        "    sys.stdout.write(logs)\n",
        "    sys.stdout.flush()\n",
        "\n",
        "    # --Save images\n",
        "    if step % save_grid_iteration == 0:\n",
        "      save_image((fake_imgs_batch * 127.5) + 127.5, os.path.join(name_dir_grid, \"imgs\" + str(step) + \".png\"),\n",
        "                    nrow=8)\n",
        "      \n",
        "  sys.stdout.write('\\n')\n",
        "\n",
        "  # -Callbacks epoch\n",
        "  # --Save weights\n",
        "  if epoch % save_weights_epoch == 0:\n",
        "    name_generator = \"Generator_{epoch}-acc_real_{acc_real}-acc_fake_{acc_fake}.hdf5\".format(\n",
        "        epoch=epoch + 1,\n",
        "        acc_real=accuracy_real,\n",
        "        acc_fake=accuracy_fake\n",
        "    )\n",
        "    name_discriminator = \"Discriminator_{epoch}.hdf5\".format(epoch=epoch + 1)\n",
        "    generator.save_weights(os.path.join(weights_path, name_generator))\n",
        "    discriminator.save_weights(os.path.join(weights_path, name_discriminator))\n",
        "  # --History\n",
        "  history['epoch'] = epoch + 1\n",
        "  history['loss_G'].append(np.mean(array_gen_loss))\n",
        "  history['loss_D'].append(np.mean(array_disc_loss))\n",
        "  history['acc_real'].append(accuracy_real)\n",
        "  history['acc_fake'].append(accuracy_fake)\n",
        "  np.save(os.path.join(logs_path,'history.npy'), history)\n"
      ],
      "execution_count": null,
      "outputs": [
        {
          "output_type": "stream",
          "name": "stderr",
          "text": [
            "/usr/local/lib/python3.7/dist-packages/keras/optimizer_v2/rmsprop.py:130: UserWarning: The `lr` argument is deprecated, use `learning_rate` instead.\n",
            "  super(RMSprop, self).__init__(name, **kwargs)\n",
            "/usr/local/lib/python3.7/dist-packages/tensorflow/python/util/dispatch.py:1096: UserWarning: \"`binary_crossentropy` received `from_logits=True`, but the `output` argument was produced by a sigmoid or softmax activation and thus does not represent logits. Was this intended?\"\n",
            "  return dispatch_target(*args, **kwargs)\n"
          ]
        },
        {
          "output_type": "stream",
          "name": "stdout",
          "text": [
            "Epoch 1 step 312 / 312 --> gen_loss: 0.8882, disc_loss: 1.2660, acc_real:0.6354, acc_fake:0.6433\n",
            "Epoch 2 step 312 / 312 --> gen_loss: 1.0059, disc_loss: 1.2510, acc_real:0.6333, acc_fake:0.6574\n",
            "Epoch 3 step 312 / 312 --> gen_loss: 0.9920, disc_loss: 1.2344, acc_real:0.6505, acc_fake:0.6825\n",
            "Epoch 4 step 312 / 312 --> gen_loss: 1.2468, disc_loss: 1.1242, acc_real:0.6998, acc_fake:0.7598\n",
            "Epoch 5 step 312 / 312 --> gen_loss: 1.3284, disc_loss: 1.0456, acc_real:0.7052, acc_fake:0.8002\n",
            "Epoch 6 step 312 / 312 --> gen_loss: 1.4382, disc_loss: 1.0317, acc_real:0.7260, acc_fake:0.8021\n",
            "Epoch 7 step 312 / 312 --> gen_loss: 1.4545, disc_loss: 0.9881, acc_real:0.7304, acc_fake:0.8182\n",
            "Epoch 8 step 312 / 312 --> gen_loss: 1.5944, disc_loss: 0.9491, acc_real:0.7472, acc_fake:0.8195\n",
            "Epoch 9 step 312 / 312 --> gen_loss: 1.7582, disc_loss: 0.8568, acc_real:0.7696, acc_fake:0.8495\n",
            "Epoch 10 step 312 / 312 --> gen_loss: 1.7740, disc_loss: 0.8853, acc_real:0.7736, acc_fake:0.8602\n",
            "Epoch 11 step 312 / 312 --> gen_loss: 1.7818, disc_loss: 0.8521, acc_real:0.7756, acc_fake:0.8518\n",
            "Epoch 12 step 312 / 312 --> gen_loss: 1.7732, disc_loss: 0.8535, acc_real:0.7705, acc_fake:0.8484\n",
            "Epoch 13 step 312 / 312 --> gen_loss: 1.7794, disc_loss: 0.8341, acc_real:0.7708, acc_fake:0.8579\n",
            "Epoch 14 step 312 / 312 --> gen_loss: 1.7868, disc_loss: 0.8551, acc_real:0.7683, acc_fake:0.8441\n",
            "Epoch 15 step 312 / 312 --> gen_loss: 1.7712, disc_loss: 0.8497, acc_real:0.7734, acc_fake:0.8514\n",
            "Epoch 16 step 312 / 312 --> gen_loss: 1.7195, disc_loss: 0.8603, acc_real:0.7654, acc_fake:0.8458\n",
            "Epoch 17 step 312 / 312 --> gen_loss: 1.7266, disc_loss: 0.8436, acc_real:0.7645, acc_fake:0.8601\n",
            "Epoch 18 step 312 / 312 --> gen_loss: 1.7268, disc_loss: 0.9038, acc_real:0.7615, acc_fake:0.8590\n",
            "Epoch 19 step 312 / 312 --> gen_loss: 1.6239, disc_loss: 0.8909, acc_real:0.7426, acc_fake:0.8480\n",
            "Epoch 20 step 312 / 312 --> gen_loss: 1.5937, disc_loss: 0.8935, acc_real:0.7534, acc_fake:0.8252\n",
            "Epoch 21 step 312 / 312 --> gen_loss: 1.4940, disc_loss: 0.9408, acc_real:0.7466, acc_fake:0.8134\n",
            "Epoch 22 step 312 / 312 --> gen_loss: 1.3952, disc_loss: 0.9664, acc_real:0.7370, acc_fake:0.7981\n",
            "Epoch 23 step 312 / 312 --> gen_loss: 1.3814, disc_loss: 0.9893, acc_real:0.7268, acc_fake:0.7855\n",
            "Epoch 24 step 312 / 312 --> gen_loss: 1.3232, disc_loss: 1.0127, acc_real:0.7165, acc_fake:0.7866\n",
            "Epoch 25 step 312 / 312 --> gen_loss: 1.2899, disc_loss: 1.0190, acc_real:0.7207, acc_fake:0.7785\n",
            "Epoch 26 step 312 / 312 --> gen_loss: 1.3265, disc_loss: 1.0066, acc_real:0.7205, acc_fake:0.7860\n",
            "Epoch 27 step 312 / 312 --> gen_loss: 1.2714, disc_loss: 1.0370, acc_real:0.7085, acc_fake:0.7753\n",
            "Epoch 28 step 312 / 312 --> gen_loss: 1.2853, disc_loss: 1.0173, acc_real:0.7242, acc_fake:0.7758\n",
            "Epoch 29 step 312 / 312 --> gen_loss: 1.3089, disc_loss: 1.0219, acc_real:0.7250, acc_fake:0.7690\n",
            "Epoch 30 step 312 / 312 --> gen_loss: 1.2853, disc_loss: 1.0367, acc_real:0.7253, acc_fake:0.7685\n",
            "Epoch 31 step 312 / 312 --> gen_loss: 1.2836, disc_loss: 1.0305, acc_real:0.7216, acc_fake:0.7726\n",
            "Epoch 32 step 312 / 312 --> gen_loss: 1.2877, disc_loss: 1.0343, acc_real:0.7192, acc_fake:0.7674\n",
            "Epoch 33 step 312 / 312 --> gen_loss: 1.2720, disc_loss: 1.0314, acc_real:0.7101, acc_fake:0.7685\n",
            "Epoch 34 step 312 / 312 --> gen_loss: 1.2979, disc_loss: 1.0331, acc_real:0.7181, acc_fake:0.7661\n",
            "Epoch 35 step 312 / 312 --> gen_loss: 1.3139, disc_loss: 1.0283, acc_real:0.7126, acc_fake:0.7665\n",
            "Epoch 36 step 312 / 312 --> gen_loss: 1.3190, disc_loss: 1.0183, acc_real:0.7229, acc_fake:0.7773\n",
            "Epoch 37 step 312 / 312 --> gen_loss: 1.3604, disc_loss: 1.0150, acc_real:0.7267, acc_fake:0.7818\n",
            "Epoch 38 step 312 / 312 --> gen_loss: 1.3118, disc_loss: 1.0298, acc_real:0.7117, acc_fake:0.7718\n",
            "Epoch 39 step 312 / 312 --> gen_loss: 1.3005, disc_loss: 1.0197, acc_real:0.7149, acc_fake:0.7821\n",
            "Epoch 40 step 312 / 312 --> gen_loss: 1.3377, disc_loss: 1.0026, acc_real:0.7194, acc_fake:0.7831\n",
            "Epoch 41 step 312 / 312 --> gen_loss: 1.3610, disc_loss: 0.9935, acc_real:0.7253, acc_fake:0.7862\n",
            "Epoch 42 step 312 / 312 --> gen_loss: 1.3493, disc_loss: 0.9967, acc_real:0.7279, acc_fake:0.7972\n",
            "Epoch 43 step 312 / 312 --> gen_loss: 1.3706, disc_loss: 0.9901, acc_real:0.7228, acc_fake:0.7951\n",
            "Epoch 44 step 312 / 312 --> gen_loss: 1.3743, disc_loss: 0.9910, acc_real:0.7250, acc_fake:0.7910\n",
            "Epoch 45 step 312 / 312 --> gen_loss: 1.3867, disc_loss: 0.9738, acc_real:0.7310, acc_fake:0.8014\n",
            "Epoch 46 step 312 / 312 --> gen_loss: 1.4216, disc_loss: 0.9495, acc_real:0.7395, acc_fake:0.8049\n",
            "Epoch 47 step 312 / 312 --> gen_loss: 1.4087, disc_loss: 0.9588, acc_real:0.7398, acc_fake:0.8021\n",
            "Epoch 48 step 312 / 312 --> gen_loss: 1.4405, disc_loss: 0.9386, acc_real:0.7441, acc_fake:0.8072\n",
            "Epoch 49 step 312 / 312 --> gen_loss: 1.4432, disc_loss: 0.9429, acc_real:0.7431, acc_fake:0.8023\n",
            "Epoch 50 step 312 / 312 --> gen_loss: 1.4772, disc_loss: 0.9245, acc_real:0.7490, acc_fake:0.8147\n"
          ]
        }
      ]
    },
    {
      "cell_type": "code",
      "metadata": {
        "colab": {
          "base_uri": "https://localhost:8080/",
          "height": 294
        },
        "id": "vjr7Xv66RKm4",
        "outputId": "b768a913-ca62-43a0-f467-e792231a6fa8"
      },
      "source": [
        "import matplotlib.pyplot as plt\n",
        "\n",
        "history = np.load(os.path.join(logs_path,\"history.npy\"), allow_pickle=True)\n",
        "\n",
        "fig, axs = plt.subplots(2)\n",
        "fig.suptitle('Loss and Accuracy curves')\n",
        "\n",
        "axs[0].plot(history[()]['loss_G'], label='loss_G')\n",
        "axs[0].plot(history[()]['loss_D'], label='loss_D')\n",
        "axs[0].legend()\n",
        "\n",
        "axs[1].plot(history[()]['acc_real'], label='acc_real')\n",
        "axs[1].plot(history[()]['acc_fake'], label='acc_fake')\n",
        "axs[1].legend()\n",
        "\n",
        "plt.show()\n"
      ],
      "execution_count": null,
      "outputs": [
        {
          "output_type": "display_data",
          "data": {
            "image/png": "[encoded data removed]",
            "text/plain": [
              "<Figure size 432x288 with 2 Axes>"
            ]
          },
          "metadata": {
            "needs_background": "light"
          }
        }
      ]
    },
    {
      "cell_type": "code",
      "metadata": {
        "id": "rEgmbbuUiBt1"
      },
      "source": [
        "!zip weights.zip weights/* grid/*/* logs/*"
      ],
      "execution_count": null,
      "outputs": []
    },
    {
      "cell_type": "markdown",
      "metadata": {
        "id": "76wQejZj75Np"
      },
      "source": [
        "#Inference"
      ]
    },
    {
      "cell_type": "code",
      "metadata": {
        "id": "e-1qM1iv7ZBc",
        "colab": {
          "base_uri": "https://localhost:8080/",
          "height": 81
        },
        "outputId": "8e1d848c-93c9-46be-a63a-29c8d25ea611"
      },
      "source": [
        "from google.colab.patches import cv2_imshow\n",
        "\n",
        "input_size = [64, 64, 3]\n",
        "latent_size = 100\n",
        "batch_size = 1\n",
        "name_weights = \"Generator_40-acc_real_0.7193509340286255-acc_fake_0.7830528616905212.hdf5\"\n",
        "\n",
        "generator = build_generator(latent_size)\n",
        "generator.load_weights(os.path.join(weights_path, name_weights))\n",
        "\n",
        "noise_batch = tf.random.normal(mean=0.0, stddev=1.0, shape=[batch_size, latent_size], dtype=tf.float32)\n",
        "prediction = generator.predict(noise_batch)\n",
        "prediction = (prediction[0] * 127.5) + 127.5\n",
        "prediction = prediction.astype(dtype=np.uint8)\n",
        "\n",
        "cv2_imshow(prediction)"
      ],
      "execution_count": null,
      "outputs": [
        {
          "output_type": "display_data",
          "data": {
            "image/png": "[encoded data removed]",
            "text/plain": [
              "<PIL.Image.Image image mode=RGB size=64x64 at 0x7F1F11671050>"
            ]
          },
          "metadata": {}
        }
      ]
    }
  ]
}